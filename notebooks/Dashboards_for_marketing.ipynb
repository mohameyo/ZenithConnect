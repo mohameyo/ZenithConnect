{
 "cells": [
  {
   "cell_type": "code",
   "execution_count": 1,
   "id": "d1c8104f",
   "metadata": {},
   "outputs": [
    {
     "data": {
      "text/html": [
       "\n",
       "        <iframe\n",
       "            width=\"100%\"\n",
       "            height=\"650\"\n",
       "            src=\"http://127.0.0.1:8070/\"\n",
       "            frameborder=\"0\"\n",
       "            allowfullscreen\n",
       "            \n",
       "        ></iframe>\n",
       "        "
      ],
      "text/plain": [
       "<IPython.lib.display.IFrame at 0x1536a253f50>"
      ]
     },
     "metadata": {},
     "output_type": "display_data"
    }
   ],
   "source": [
    "#pip install dash plotly\n",
    "# pip install requests\n",
    "import pandas as pd\n",
    "import plotly.graph_objects as go\n",
    "import plotly.express as px\n",
    "import dash\n",
    "from dash import dcc, html\n",
    "\n",
    "# Load the dataset\n",
    "file_path = '../data/ZenithConnect_new.csv'\n",
    "df = pd.read_csv(file_path)\n",
    "\n",
    "# Set appropriate data types\n",
    "df['customerID'] = df['customerID'].astype(str)\n",
    "df['SeniorCitizen'] = df['SeniorCitizen'].astype(object)\n",
    "\n",
    "# Create visualizations\n",
    "fig_tenure = px.histogram(df, x='tenure', color='Churn', title='Distribution of Tenure by Churn')\n",
    "fig_monthly_charges = px.histogram(df, x='MonthlyCharges', color='Churn', title='Distribution of Monthly Charges by Churn')\n",
    "fig_senior_citizen = px.histogram(df, x='SeniorCitizen', color='Churn', title='Distribution of Senior Citizen by Churn')\n",
    "fig_total_charges = px.histogram(df, x='TotalCharges', color='Churn', title='Distribution of Total Charges by Churn')\n",
    "fig_gender = px.histogram(df, x='gender', color='Churn', title='Distribution of Gender by Churn')\n",
    "fig_contract = px.histogram(df, x='Contract', color='Churn', title='Distribution of Contract by Churn')\n",
    "\n",
    "# Create Dash app\n",
    "app = dash.Dash(__name__)\n",
    "\n",
    "app.layout = html.Div([\n",
    "    html.H1(\"Customer Churn Analysis Dashboard\"),\n",
    "    dcc.Graph(figure=fig_tenure),\n",
    "    dcc.Graph(figure=fig_monthly_charges),\n",
    "    dcc.Graph(figure=fig_senior_citizen),\n",
    "    dcc.Graph(figure=fig_total_charges),\n",
    "    dcc.Graph(figure=fig_gender),\n",
    "    dcc.Graph(figure=fig_contract),\n",
    "])\n",
    "\n",
    "# Save the Dash app as a static HTML file\n",
    "def save_app_as_html(app, file_path):\n",
    "    from dash import Dash\n",
    "    from dash.development.base_component import Component\n",
    "    from dash import dcc, html\n",
    "\n",
    "    with open(file_path, 'w') as f:\n",
    "        f.write('<!DOCTYPE html>\\n<html>\\n<head>\\n<meta charset=\"UTF-8\">\\n<title>Customer Churn Analysis Dashboard</title>\\n')\n",
    "        f.write('<script src=\"https://cdn.plot.ly/plotly-latest.min.js\"></script>\\n')\n",
    "        f.write('</head>\\n<body>\\n')\n",
    "        \n",
    "        for component in app.layout.children:\n",
    "            if isinstance(component, dcc.Graph):\n",
    "                figure_html = component.figure.to_html(full_html=False, include_plotlyjs=False)\n",
    "                f.write(figure_html)\n",
    "        \n",
    "        f.write('\\n</body>\\n</html>')\n",
    "\n",
    "# Save the entire Dash app as a static HTML file\n",
    "save_app_as_html(app, '../dashboards/ZenithCustomersDashboard.html')\n",
    "\n",
    "if __name__ == '__main__':\n",
    "    app.run_server(debug=False, port = 8070)"
   ]
  },
  {
   "cell_type": "code",
   "execution_count": 2,
   "id": "699f0cb1",
   "metadata": {},
   "outputs": [],
   "source": [
    "# Let's visualize on customer level esepcially those who who are going to churn"
   ]
  },
  {
   "cell_type": "code",
   "execution_count": 3,
   "id": "cb6aa316",
   "metadata": {},
   "outputs": [],
   "source": [
    "# Load datasets\n",
    "file_path1 = '../data/ZenithConnect_new.csv'\n",
    "file_path2 = '../data/model_results.csv'\n",
    "\n",
    "df1 = pd.read_csv(file_path1)\n",
    "df2 = pd.read_csv(file_path2)"
   ]
  },
  {
   "cell_type": "code",
   "execution_count": 4,
   "id": "2e9e80d6",
   "metadata": {},
   "outputs": [],
   "source": [
    "df = pd.merge(df1, df2, how = 'left', on = 'customerID')\n",
    "df['ChurnScore'] = (df['Probability'] * 100).round(0).astype(int)"
   ]
  },
  {
   "cell_type": "code",
   "execution_count": 5,
   "id": "2ac7c03e",
   "metadata": {},
   "outputs": [
    {
     "data": {
      "text/html": [
       "\n",
       "        <iframe\n",
       "            width=\"100%\"\n",
       "            height=\"650\"\n",
       "            src=\"http://127.0.0.1:8060/\"\n",
       "            frameborder=\"0\"\n",
       "            allowfullscreen\n",
       "            \n",
       "        ></iframe>\n",
       "        "
      ],
      "text/plain": [
       "<IPython.lib.display.IFrame at 0x15368de7e50>"
      ]
     },
     "metadata": {},
     "output_type": "display_data"
    }
   ],
   "source": [
    "import dash\n",
    "from dash import dcc, html\n",
    "from dash.dependencies import Input, Output\n",
    "import plotly.express as px\n",
    "import plotly.graph_objects as go\n",
    "import threading\n",
    "import requests\n",
    "import time\n",
    "import plotly.subplots as sp\n",
    "\n",
    "\n",
    "# Create Dash app\n",
    "app = dash.Dash(__name__)\n",
    "\n",
    "app.layout = html.Div([\n",
    "    html.H1(\"Customer Churn Analysis Dashboard\"),\n",
    "    dcc.Dropdown(\n",
    "        id='customer-id-dropdown',\n",
    "        options=[{'label': customer_id, 'value': customer_id} for customer_id in df['customerID'].unique()],\n",
    "        placeholder=\"Select a Customer ID\"\n",
    "    ),\n",
    "    html.Div(id='customer-info'),\n",
    "    dcc.Graph(id='churn-score-graph')\n",
    "])\n",
    "\n",
    "import plotly.subplots as sp\n",
    "\n",
    "@app.callback(\n",
    "    [Output('customer-info', 'children'),\n",
    "     Output('churn-score-graph', 'figure')],\n",
    "    [Input('customer-id-dropdown', 'value')]\n",
    ")\n",
    "def update_dashboard(customer_id):\n",
    "    if customer_id is None:\n",
    "        return '', {}\n",
    "    \n",
    "    customer_data = df[df['customerID'] == customer_id].iloc[0]\n",
    "    average_churn_score = df['ChurnScore'].mean()\n",
    "    average_cltv = df['TotalCharges'].mean()\n",
    "    \n",
    "    info = html.Div([\n",
    "        html.P(f\"Customer ID: {customer_data['customerID']}\"),\n",
    "        html.P(f\"Gender: {customer_data['gender']}\"),\n",
    "        html.P(f\"Senior Citizen: {customer_data['SeniorCitizen']}\"),\n",
    "        html.P(f\"Tenure: {customer_data['tenure']}\"),\n",
    "        html.P(f\"Monthly Charges: {customer_data['MonthlyCharges']}\"),\n",
    "        html.P(f\"CLTV: {customer_data['TotalCharges']}\"),\n",
    "        html.P(f\"Contract: {customer_data['Contract']}\"),\n",
    "        html.P(f\"Churn: {customer_data['Churn']}\"),\n",
    "        html.P(f\"Predicted: {customer_data['Predicted']}\"),\n",
    "        html.P(f\"Churn Score: {customer_data['ChurnScore']}\")\n",
    "    ])\n",
    "    \n",
    "    individual_score_color = 'green' if customer_data['ChurnScore'] < average_churn_score else 'red'\n",
    "    individual_cltv_color = 'green' if customer_data['TotalCharges'] > average_cltv else 'red'\n",
    "    \n",
    "    # Create subplots\n",
    "    fig = sp.make_subplots(rows=1, cols=2, subplot_titles=(\"Churn Score Comparison\", \"CLTV Comparison\"))\n",
    "    \n",
    "    # Add churn score bars\n",
    "    fig.add_trace(\n",
    "        go.Bar(name='Churn Score', x=['Churn Score'], y=[customer_data['ChurnScore']], marker_color=individual_score_color),\n",
    "        row=1, col=1\n",
    "    )\n",
    "    \n",
    "    fig.add_trace(\n",
    "        go.Bar(name='Average Churn Score', x=['Average Churn Score'], y=[average_churn_score], marker_color='blue'),\n",
    "        row=1, col=1\n",
    "    )\n",
    "    \n",
    "    # Add CLTV bars\n",
    "    fig.add_trace(\n",
    "        go.Bar(name='CLTV', x=['CLTV'], y=[customer_data['TotalCharges']], marker_color=individual_cltv_color),\n",
    "        row=1, col=2\n",
    "    )\n",
    "    \n",
    "    fig.add_trace(\n",
    "        go.Bar(name='Average CLTV', x=['Average CLTV'], y=[average_cltv], marker_color='blue'),\n",
    "        row=1, col=2\n",
    "    )\n",
    "    \n",
    "    fig.update_layout(\n",
    "        yaxis=dict(range=[0, 100]),\n",
    "        yaxis2=dict(range=[0, max(df['TotalCharges'].max(), average_cltv)]),\n",
    "        showlegend=False\n",
    "    )\n",
    "    \n",
    "    return info, fig\n",
    "\n",
    "def run_server():\n",
    "    app.run_server(debug=False, port=8060)\n",
    "\n",
    "if __name__ == '__main__':\n",
    "    # Run the server in a separate thread\n",
    "    threading.Thread(target=run_server).start()\n",
    "    \n",
    "    # Allow the server to start\n",
    "    time.sleep(5)\n",
    "    \n",
    "    # Fetch the dashboard HTML\n",
    "    url = \"http://127.0.0.1:8060\"\n",
    "    response = requests.get(url)\n",
    "    \n",
    "    # Save the HTML to a file\n",
    "    with open(\"../dashboards/ZenithPredictionsDashboard.html\", \"w\") as file:\n",
    "        file.write(response.text)\n"
   ]
  },
  {
   "cell_type": "markdown",
   "id": "a9309565",
   "metadata": {},
   "source": [
    "Rank customers based on their CLTV and probaility to churn .. this excel will go to the marketing team to contact these guys."
   ]
  },
  {
   "cell_type": "code",
   "execution_count": 6,
   "id": "dfaccd70",
   "metadata": {},
   "outputs": [],
   "source": [
    "df['CLTV'] = df['TotalCharges'] \n",
    "\n",
    "df[df['Predicted'] == 1].sort_values(['CLTV', 'ChurnScore'], ascending=[False, False]).to_csv('../data/Valuable_PredictedToChurn.csv', index = False)"
   ]
  }
 ],
 "metadata": {
  "kernelspec": {
   "display_name": "Python 3 (ipykernel)",
   "language": "python",
   "name": "python3"
  },
  "language_info": {
   "codemirror_mode": {
    "name": "ipython",
    "version": 3
   },
   "file_extension": ".py",
   "mimetype": "text/x-python",
   "name": "python",
   "nbconvert_exporter": "python",
   "pygments_lexer": "ipython3",
   "version": "3.11.5"
  }
 },
 "nbformat": 4,
 "nbformat_minor": 5
}
